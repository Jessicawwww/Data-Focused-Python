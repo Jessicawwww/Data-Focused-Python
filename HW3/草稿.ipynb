{
 "cells": [
  {
   "cell_type": "code",
   "execution_count": 1,
   "id": "6c06da9b",
   "metadata": {},
   "outputs": [
    {
     "ename": "MemoryError",
     "evalue": "",
     "output_type": "error",
     "traceback": [
      "\u001b[1;31m---------------------------------------------------------------------------\u001b[0m",
      "\u001b[1;31mMemoryError\u001b[0m                               Traceback (most recent call last)",
      "\u001b[1;32m<ipython-input-1-346fff107767>\u001b[0m in \u001b[0;36m<module>\u001b[1;34m\u001b[0m\n\u001b[0;32m      3\u001b[0m     \u001b[0mline\u001b[0m \u001b[1;33m=\u001b[0m \u001b[0mf\u001b[0m\u001b[1;33m.\u001b[0m\u001b[0mreadline\u001b[0m\u001b[1;33m(\u001b[0m\u001b[1;33m)\u001b[0m\u001b[1;33m\u001b[0m\u001b[1;33m\u001b[0m\u001b[0m\n\u001b[0;32m      4\u001b[0m     \u001b[1;32mwhile\u001b[0m \u001b[0mline\u001b[0m\u001b[1;33m:\u001b[0m\u001b[1;33m\u001b[0m\u001b[1;33m\u001b[0m\u001b[0m\n\u001b[1;32m----> 5\u001b[1;33m         \u001b[0mrecords\u001b[0m\u001b[1;33m.\u001b[0m\u001b[0mappend\u001b[0m\u001b[1;33m(\u001b[0m\u001b[0mline\u001b[0m\u001b[1;33m)\u001b[0m\u001b[1;33m\u001b[0m\u001b[1;33m\u001b[0m\u001b[0m\n\u001b[0m",
      "\u001b[1;31mMemoryError\u001b[0m: "
     ]
    }
   ],
   "source": [
    "records = []\n",
    "with open(\"expenses.txt\",'r') as f:\n",
    "    line = f.readline()\n",
    "    while line:\n",
    "        records.append(line)"
   ]
  },
  {
   "cell_type": "code",
   "execution_count": null,
   "id": "059c7aed",
   "metadata": {},
   "outputs": [],
   "source": [
    "for line in records:\n",
    "    print(line)\n",
    "    "
   ]
  },
  {
   "cell_type": "code",
   "execution_count": null,
   "id": "15d382d3",
   "metadata": {},
   "outputs": [],
   "source": [
    "def sort(nums):\n",
    "    numlist = list(nums)\n",
    "    n = len(numlist)\n",
    "    for i in range(n-1):\n",
    "        for j in range(n-i-1):\n",
    "            if numlist[j] > numlist[j+1]:\n",
    "                numlist[j], numlist[j+1] = numlist[j+1], numlist[j]\n",
    "    return numlist"
   ]
  },
  {
   "cell_type": "code",
   "execution_count": null,
   "id": "88db81a6",
   "metadata": {},
   "outputs": [],
   "source": [
    "numlist = [4,7,10,3,77,900]\n",
    "n = n = len(numlist)\n",
    "for i in range(n-1):\n",
    "    for j in range(n-i-1):\n",
    "        if numlist[j] > numlist[j+1]:\n",
    "            numlist[j], numlist[j+1] = numlist[j+1], numlist[j]"
   ]
  }
 ],
 "metadata": {
  "kernelspec": {
   "display_name": "Python 3",
   "language": "python",
   "name": "python3"
  },
  "language_info": {
   "codemirror_mode": {
    "name": "ipython",
    "version": 3
   },
   "file_extension": ".py",
   "mimetype": "text/x-python",
   "name": "python",
   "nbconvert_exporter": "python",
   "pygments_lexer": "ipython3",
   "version": "3.8.8"
  }
 },
 "nbformat": 4,
 "nbformat_minor": 5
}
