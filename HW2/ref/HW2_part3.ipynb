{
 "cells": [
  {
   "cell_type": "code",
   "execution_count": 1,
   "metadata": {},
   "outputs": [],
   "source": [
    "import numpy as np\n",
    "import pandas as pd\n",
    "import matplotlib.pyplot as plt\n",
    "import time"
   ]
  },
  {
   "cell_type": "code",
   "execution_count": 2,
   "metadata": {},
   "outputs": [],
   "source": [
    "data_path = \"input_filtered.txt\"\n",
    "output_path1 = \"output3.txt\"\n",
    "output_path2 = \"output4.txt\""
   ]
  },
  {
   "cell_type": "code",
   "execution_count": 3,
   "metadata": {},
   "outputs": [],
   "source": [
    "fin = open(data_path, 'rt',encoding = 'utf-8')\n",
    "fout1 = open(output_path1, 'wt', encoding='utf-8')\n",
    "fout2 = open(output_path2, 'wt', encoding='utf-8')"
   ]
  },
  {
   "cell_type": "code",
   "execution_count": 4,
   "metadata": {},
   "outputs": [],
   "source": [
    "fout1.writelines(['Futures Code  ', 'Contract Month  ', 'Contract Type  ','Strike Price  ','Settlement Price  ','\\n'])\n",
    "fout1.writelines(['-----------        ','-----------        ','-----------        ','-----------        ','-----------        ','\\n'])"
   ]
  },
  {
   "cell_type": "code",
   "execution_count": 5,
   "metadata": {},
   "outputs": [],
   "source": [
    "while(True):\n",
    "    line = fin.readline()\n",
    "    if not line:\n",
    "        break;\n",
    "    if(line[0:2]=='81' and line[5:7]=='CL' and line[7]==' '):\n",
    "        line_list = line.strip(' ').split(' ')\n",
    "        s1 = [x for x in line_list if x!='']\n",
    "        fc = s1[1]\n",
    "        cm = s1[3]\n",
    "        cm_date=time.strftime('%Y-%m', time.strptime(cm,'%Y%m'))\n",
    "        if(time.strptime(cm_date,'%Y-%m')>time.strptime('2023-12','%Y-%m')):\n",
    "            continue\n",
    "        ct='Fut'\n",
    "        sp=str(int((s1[4])[-8:-2])/100)\n",
    "        fout1.writelines([fc+'                  ',cm_date+'                  ',ct+'                  ','                  ',sp+'                  ','\\n'])\n",
    "    if(line[0:2]=='81' and line[5:7]=='LO'and line[7]==' '):\n",
    "        line_list = line.strip(' ').split(' ')\n",
    "        s1 = [x for x in line_list if x!='']\n",
    "        fc = s1[1]\n",
    "        cm = s1[3]\n",
    "        cm_date=time.strftime('%Y-%m', time.strptime(cm,'%Y%m'))\n",
    "        if(time.strptime(cm_date,'%Y-%m')>time.strptime('2023-12','%Y-%m')):\n",
    "            continue\n",
    "        if (s1[2])[3]=='C':\n",
    "            ct = 'Call'\n",
    "        elif (s1[2])[3]=='P':\n",
    "            ct='Put'\n",
    "        stp = str(int((s1[4])[0:7])/100)\n",
    "        sep=str(int((s1[4])[-8:-2])/100)\n",
    "        fout2.writelines([fc+'                  ',cm_date+'                  ',ct+'                  ',stp+'                  ',sep+'                  ','\\n'])"
   ]
  },
  {
   "cell_type": "code",
   "execution_count": 6,
   "metadata": {},
   "outputs": [],
   "source": [
    "fout1.close()\n",
    "fout2.close()"
   ]
  },
  {
   "cell_type": "code",
   "execution_count": null,
   "metadata": {},
   "outputs": [],
   "source": []
  }
 ],
 "metadata": {
  "kernelspec": {
   "display_name": "Python 3",
   "language": "python",
   "name": "python3"
  },
  "language_info": {
   "codemirror_mode": {
    "name": "ipython",
    "version": 3
   },
   "file_extension": ".py",
   "mimetype": "text/x-python",
   "name": "python",
   "nbconvert_exporter": "python",
   "pygments_lexer": "ipython3",
   "version": "3.8.8"
  }
 },
 "nbformat": 4,
 "nbformat_minor": 2
}
