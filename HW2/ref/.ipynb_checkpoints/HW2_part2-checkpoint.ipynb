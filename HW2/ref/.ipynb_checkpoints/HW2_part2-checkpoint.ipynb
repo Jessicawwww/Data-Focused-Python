{
 "cells": [
  {
   "cell_type": "code",
   "execution_count": 1,
   "metadata": {},
   "outputs": [],
   "source": [
    "import numpy as np\n",
    "import pandas as pd\n",
    "import matplotlib.pyplot as plt"
   ]
  },
  {
   "cell_type": "code",
   "execution_count": 2,
   "metadata": {},
   "outputs": [],
   "source": [
    "import time"
   ]
  },
  {
   "cell_type": "code",
   "execution_count": 3,
   "metadata": {},
   "outputs": [],
   "source": [
    "data_path = \"input_filtered.txt\"\n",
    "output_path1 = \"output1.txt\"\n",
    "output_path2 = \"output2.txt\""
   ]
  },
  {
   "cell_type": "code",
   "execution_count": 4,
   "metadata": {},
   "outputs": [],
   "source": [
    "fin = open(data_path, 'rt',encoding = 'utf-8')\n",
    "fout1 = open(output_path1, 'wt', encoding='utf-8')\n",
    "fout2 = open(output_path2, 'wt', encoding='utf-8')"
   ]
  },
  {
   "cell_type": "code",
   "execution_count": 5,
   "metadata": {},
   "outputs": [],
   "source": [
    "fout1.writelines(['Futures Code  ', 'Contract Month  ', 'Contract Type  ','Futures Exp Date  ','Options Code  ','Options Exp Date  ','\\n'])\n",
    "fout1.writelines(['-----------            ','-----------            ','-----------            ','-----------            ','-----------            ','-----------            ','\\n'])"
   ]
  },
  {
   "cell_type": "code",
   "execution_count": 6,
   "metadata": {},
   "outputs": [],
   "source": [
    "while(True):\n",
    "    line = fin.readline()\n",
    "    if not line:\n",
    "        break;\n",
    "    if(line[0]=='B'):\n",
    "        line_list = line.strip(' ').split(' ')\n",
    "        s1 = [x for x in line_list if x!='']\n",
    "        if((s1[1][3:])=='CL'):\n",
    "            fc = (s1[1])[3:]\n",
    "            cm = (s1[2])[3:]\n",
    "            cm_date=time.strftime('%Y-%m', time.strptime(cm,'%Y%m'))\n",
    "            if(time.strptime(cm_date,'%Y-%m')>time.strptime('2023-12','%Y-%m')):\n",
    "                continue\n",
    "            ct = 'Fut'\n",
    "            fed = (s1[3])[-10:-2]\n",
    "            fed_date=time.strftime('%Y-%m-%d', time.strptime(fed,'%Y%m%d'))\n",
    "            fout1.writelines([fc+'                  ',cm_date+'                  ',ct+'                  ',fed_date+'                  ','\\n'])\n",
    "        elif(s1[1][3:]=='LO'):\n",
    "            fc=(s1[4])[-2:]\n",
    "            cm = (s1[2])[3:]\n",
    "            cm_date=time.strftime('%Y-%m', time.strptime(cm,'%Y%m'))\n",
    "            if(time.strptime(cm_date,'%Y-%m')>time.strptime('2023-12','%Y-%m')):\n",
    "                continue\n",
    "            ct = 'Opt'\n",
    "            oc = (s1[1])[-2:]\n",
    "            oed = (s1[4])[-10:-2]\n",
    "            oed_date=time.strftime('%Y-%m-%d', time.strptime(oed,'%Y%m%d'))\n",
    "            fout2.writelines([fc+'                  ',cm_date+'                  ', ct+'                  ','                  ',oc+'                  ', oed_date+'                  ','\\n'])"
   ]
  },
  {
   "cell_type": "code",
   "execution_count": 7,
   "metadata": {},
   "outputs": [],
   "source": [
    "fin.close()\n",
    "fout1.close()\n",
    "fout2.close()"
   ]
  },
  {
   "cell_type": "code",
   "execution_count": null,
   "metadata": {},
   "outputs": [],
   "source": []
  }
 ],
 "metadata": {
  "kernelspec": {
   "display_name": "Python 3",
   "language": "python",
   "name": "python3"
  },
  "language_info": {
   "codemirror_mode": {
    "name": "ipython",
    "version": 3
   },
   "file_extension": ".py",
   "mimetype": "text/x-python",
   "name": "python",
   "nbconvert_exporter": "python",
   "pygments_lexer": "ipython3",
   "version": "3.8.8"
  }
 },
 "nbformat": 4,
 "nbformat_minor": 2
}
